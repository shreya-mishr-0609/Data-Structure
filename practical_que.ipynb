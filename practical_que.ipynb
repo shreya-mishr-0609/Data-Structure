{
  "nbformat": 4,
  "nbformat_minor": 0,
  "metadata": {
    "colab": {
      "provenance": []
    },
    "kernelspec": {
      "name": "python3",
      "display_name": "Python 3"
    },
    "language_info": {
      "name": "python"
    }
  },
  "cells": [
    {
      "cell_type": "markdown",
      "source": [
        "Write a code to create a string with your name and print it"
      ],
      "metadata": {
        "id": "gnYdjFOT2TBQ"
      }
    },
    {
      "cell_type": "code",
      "source": [
        "name =\"shreya\"\n",
        "print(name)"
      ],
      "metadata": {
        "colab": {
          "base_uri": "https://localhost:8080/"
        },
        "id": "1yfQs5NJ2dz4",
        "outputId": "7ba1557d-d322-492c-cc62-642533f81e62"
      },
      "execution_count": null,
      "outputs": [
        {
          "output_type": "stream",
          "name": "stdout",
          "text": [
            "shreya\n"
          ]
        }
      ]
    },
    {
      "cell_type": "markdown",
      "source": [
        "Write a code to find the length of the string \"Hello World\""
      ],
      "metadata": {
        "id": "mRJ0jW6f3idO"
      }
    },
    {
      "cell_type": "code",
      "source": [
        "s =\"hello world\"\n",
        "len(s)"
      ],
      "metadata": {
        "colab": {
          "base_uri": "https://localhost:8080/"
        },
        "id": "NNpRk-Su3pJX",
        "outputId": "44e35156-ef96-4d4a-cfbe-724b87b8272f"
      },
      "execution_count": null,
      "outputs": [
        {
          "output_type": "execute_result",
          "data": {
            "text/plain": [
              "11"
            ]
          },
          "metadata": {},
          "execution_count": 2
        }
      ]
    },
    {
      "cell_type": "markdown",
      "source": [
        "Write a code to slice the first 3 characters from the string \"Python Programming\""
      ],
      "metadata": {
        "id": "3LMR1Ho23_f5"
      }
    },
    {
      "cell_type": "code",
      "source": [
        "text=\"pyhont programming\"\n",
        "sliced_text=text[:3]\n",
        "print(sliced_text)"
      ],
      "metadata": {
        "colab": {
          "base_uri": "https://localhost:8080/"
        },
        "id": "BfZG59zd4HSm",
        "outputId": "e9f93eac-ebda-4279-df6b-02f40d1178d8"
      },
      "execution_count": null,
      "outputs": [
        {
          "output_type": "stream",
          "name": "stdout",
          "text": [
            "pyh\n"
          ]
        }
      ]
    },
    {
      "cell_type": "markdown",
      "source": [
        "Write a code to convert the string \"hello\" to uppercase"
      ],
      "metadata": {
        "id": "1s2q3pMK5r0Y"
      }
    },
    {
      "cell_type": "code",
      "source": [
        "text =\"hello\"\n",
        "new_text=text.upper()\n",
        "print(new_text)"
      ],
      "metadata": {
        "colab": {
          "base_uri": "https://localhost:8080/"
        },
        "id": "IzDUimDh512l",
        "outputId": "9a36aa60-eee3-4ad0-e816-bd577627873b"
      },
      "execution_count": null,
      "outputs": [
        {
          "output_type": "stream",
          "name": "stdout",
          "text": [
            "HELLO\n"
          ]
        }
      ]
    },
    {
      "cell_type": "markdown",
      "source": [
        "Write a code to replace the word \"apple\" with \"orange\" in the string \"I like apple\""
      ],
      "metadata": {
        "id": "cENdXW6l6mAM"
      }
    },
    {
      "cell_type": "code",
      "source": [
        "text = \"I like apple\"\n",
        "new_text = text.replace(\"apple\", \"orange\")\n",
        "print(new_text)"
      ],
      "metadata": {
        "colab": {
          "base_uri": "https://localhost:8080/"
        },
        "id": "y7Ikhyqe8xUW",
        "outputId": "d64c99d9-1f45-4276-e932-d30a441c981b"
      },
      "execution_count": null,
      "outputs": [
        {
          "output_type": "stream",
          "name": "stdout",
          "text": [
            "I like orange\n"
          ]
        }
      ]
    },
    {
      "cell_type": "markdown",
      "source": [
        "Write a code to create a list with numbers 1 to 5 and print it"
      ],
      "metadata": {
        "id": "1zxMbB0B-Scu"
      }
    },
    {
      "cell_type": "code",
      "source": [
        "list =[1, 2, 3, 4, 5]\n",
        "print(list)"
      ],
      "metadata": {
        "colab": {
          "base_uri": "https://localhost:8080/"
        },
        "id": "0BhT3n0m-eQq",
        "outputId": "b20c26bc-233a-41d8-c903-d93ef7651e91"
      },
      "execution_count": null,
      "outputs": [
        {
          "output_type": "stream",
          "name": "stdout",
          "text": [
            "[1, 2, 3, 4, 5]\n"
          ]
        }
      ]
    },
    {
      "cell_type": "markdown",
      "source": [
        "Write a code to append the number 10 to the list [1, 2, 3, 4]"
      ],
      "metadata": {
        "id": "_FLpZOfI-zWL"
      }
    },
    {
      "cell_type": "code",
      "source": [
        "numbers = [1, 2, 3, 4]\n",
        "numbers.append(10)\n",
        "print(numbers)"
      ],
      "metadata": {
        "colab": {
          "base_uri": "https://localhost:8080/"
        },
        "id": "w9OSEHr9-5gM",
        "outputId": "ea712528-f578-4610-b47b-e5c8355518e1"
      },
      "execution_count": null,
      "outputs": [
        {
          "output_type": "stream",
          "name": "stdout",
          "text": [
            "[1, 2, 3, 4, 10]\n"
          ]
        }
      ]
    },
    {
      "cell_type": "markdown",
      "source": [
        "Write a code to remove the number 3 from the list [1, 2, 3, 4, 5]"
      ],
      "metadata": {
        "id": "EAo161_A_4FC"
      }
    },
    {
      "cell_type": "code",
      "source": [
        "numbers = [1, 2, 3, 4, 5]\n",
        "numbers.remove(3)\n",
        "print(numbers)"
      ],
      "metadata": {
        "colab": {
          "base_uri": "https://localhost:8080/"
        },
        "id": "rkQsPjH_AF-W",
        "outputId": "c609e7d9-1203-4316-aa30-e8ae177de9b5"
      },
      "execution_count": null,
      "outputs": [
        {
          "output_type": "stream",
          "name": "stdout",
          "text": [
            "[1, 2, 4, 5]\n"
          ]
        }
      ]
    },
    {
      "cell_type": "markdown",
      "source": [
        "Write a code to access the second element in the list ['a', 'b', 'c', 'd']"
      ],
      "metadata": {
        "id": "ADnVtIApA8dc"
      }
    },
    {
      "cell_type": "code",
      "source": [
        "list=['a','b','c','d']\n",
        "list[1]"
      ],
      "metadata": {
        "colab": {
          "base_uri": "https://localhost:8080/",
          "height": 35
        },
        "id": "d_OaILPDBLEG",
        "outputId": "6fa5c291-d04e-46b5-cdb3-25a61aebc0ae"
      },
      "execution_count": null,
      "outputs": [
        {
          "output_type": "execute_result",
          "data": {
            "text/plain": [
              "'b'"
            ],
            "application/vnd.google.colaboratory.intrinsic+json": {
              "type": "string"
            }
          },
          "metadata": {},
          "execution_count": 20
        }
      ]
    },
    {
      "cell_type": "markdown",
      "source": [
        "Write a code to reverse the list [10, 20, 30, 40, 50]."
      ],
      "metadata": {
        "id": "cIBL04lbCfjA"
      }
    },
    {
      "cell_type": "code",
      "source": [
        "list =[10,20,30,40,50]\n",
        "list.reverse()\n",
        "print(list)"
      ],
      "metadata": {
        "colab": {
          "base_uri": "https://localhost:8080/"
        },
        "id": "OLRSMyirCjVv",
        "outputId": "59f715ab-c26e-4bb2-b061-e290d580b416"
      },
      "execution_count": null,
      "outputs": [
        {
          "output_type": "stream",
          "name": "stdout",
          "text": [
            "[50, 40, 30, 20, 10]\n"
          ]
        }
      ]
    },
    {
      "cell_type": "markdown",
      "source": [
        "Write a code to create a tuple with the elements 100, 200, 300 and print it."
      ],
      "metadata": {
        "id": "1MixH6l8ES9M"
      }
    },
    {
      "cell_type": "code",
      "source": [
        "tuple = (100,200,300)\n",
        "print(tuple)"
      ],
      "metadata": {
        "colab": {
          "base_uri": "https://localhost:8080/"
        },
        "id": "gNdJo9u5Et_L",
        "outputId": "d6902de3-b85d-410c-83dd-5042e19f59d2"
      },
      "execution_count": null,
      "outputs": [
        {
          "output_type": "stream",
          "name": "stdout",
          "text": [
            "(100, 200, 300)\n"
          ]
        }
      ]
    },
    {
      "cell_type": "markdown",
      "source": [
        "Write a code to access the second-to-last element of the tuple ('red', 'green', 'blue', 'yellow')."
      ],
      "metadata": {
        "id": "i9-5utR7FFAq"
      }
    },
    {
      "cell_type": "code",
      "source": [
        "tuple =('red','green','blue','yellow')\n",
        "tuple[-2]\n",
        "#print(tuple)"
      ],
      "metadata": {
        "colab": {
          "base_uri": "https://localhost:8080/",
          "height": 35
        },
        "id": "uhlEYlEME-PU",
        "outputId": "86df98af-d8af-4f9f-e460-806563296c73"
      },
      "execution_count": null,
      "outputs": [
        {
          "output_type": "execute_result",
          "data": {
            "text/plain": [
              "'blue'"
            ],
            "application/vnd.google.colaboratory.intrinsic+json": {
              "type": "string"
            }
          },
          "metadata": {},
          "execution_count": 28
        }
      ]
    },
    {
      "cell_type": "markdown",
      "source": [
        "Write a code to find the minimum number in the tuple (10, 20, 5, 15)."
      ],
      "metadata": {
        "id": "i0tyLCf8ISIX"
      }
    },
    {
      "cell_type": "code",
      "source": [
        "tuple =(10, 20, 5, 15)\n",
        "min(tuple)"
      ],
      "metadata": {
        "colab": {
          "base_uri": "https://localhost:8080/"
        },
        "id": "py7KW6MsHqS0",
        "outputId": "70640e09-dce2-44c7-dbb3-eed8b92af647"
      },
      "execution_count": null,
      "outputs": [
        {
          "output_type": "execute_result",
          "data": {
            "text/plain": [
              "5"
            ]
          },
          "metadata": {},
          "execution_count": 29
        }
      ]
    },
    {
      "cell_type": "markdown",
      "source": [
        "Write a code to find the index of the element \"cat\" in the tuple ('dog', 'cat', 'rabbit')"
      ],
      "metadata": {
        "id": "J-eqW0JdK3ef"
      }
    },
    {
      "cell_type": "code",
      "source": [
        "tuple = ('dog','cat','rabbit')\n",
        "tuple.index('cat')"
      ],
      "metadata": {
        "colab": {
          "base_uri": "https://localhost:8080/"
        },
        "id": "IRKGlrIzJVaO",
        "outputId": "f80f3c4e-f692-41ce-b64f-1d2d534fc852"
      },
      "execution_count": null,
      "outputs": [
        {
          "output_type": "execute_result",
          "data": {
            "text/plain": [
              "1"
            ]
          },
          "metadata": {},
          "execution_count": 30
        }
      ]
    },
    {
      "cell_type": "markdown",
      "source": [
        "Write a code to create a tuple containing three different fruits and check if \"kiwi\" is in it."
      ],
      "metadata": {
        "id": "oAwtXojGLMqt"
      }
    },
    {
      "cell_type": "code",
      "source": [
        "fruit =('apple','orange','kiwi')\n",
        "if \"kiwi\" in fruit:\n",
        "  print(\"kiwi in it\")\n",
        "else:\n",
        "  print(\"kiwi is not in it\")"
      ],
      "metadata": {
        "id": "rsZZTSz6LjiD",
        "colab": {
          "base_uri": "https://localhost:8080/"
        },
        "outputId": "07c90d94-def6-4448-c660-a5c0bb880109"
      },
      "execution_count": null,
      "outputs": [
        {
          "output_type": "stream",
          "name": "stdout",
          "text": [
            "kiwi in it\n"
          ]
        }
      ]
    },
    {
      "cell_type": "markdown",
      "source": [
        "Write a code to create a set with the elements 'a', 'b', 'c' and print it."
      ],
      "metadata": {
        "id": "YgDS_PLrz2vm"
      }
    },
    {
      "cell_type": "code",
      "source": [
        "set = {'a', 'b', 'c'}\n",
        "print(set)"
      ],
      "metadata": {
        "colab": {
          "base_uri": "https://localhost:8080/"
        },
        "id": "D8--nuYtz72K",
        "outputId": "f33a35d6-65b0-498e-83ce-3df78d0cc682"
      },
      "execution_count": null,
      "outputs": [
        {
          "output_type": "stream",
          "name": "stdout",
          "text": [
            "{'a', 'b', 'c'}\n"
          ]
        }
      ]
    },
    {
      "cell_type": "markdown",
      "source": [
        "Write a code to clear all elements from the set {1, 2, 3, 4, 5}."
      ],
      "metadata": {
        "id": "i_RbIB1R0NbM"
      }
    },
    {
      "cell_type": "code",
      "source": [
        "set = {1,2,3,4,5}\n",
        "set.clear()\n",
        "set"
      ],
      "metadata": {
        "colab": {
          "base_uri": "https://localhost:8080/"
        },
        "id": "UBHOVczg0Rwj",
        "outputId": "5fa07643-3221-4d66-bd1c-2886109ac845"
      },
      "execution_count": null,
      "outputs": [
        {
          "output_type": "execute_result",
          "data": {
            "text/plain": [
              "set()"
            ]
          },
          "metadata": {},
          "execution_count": 8
        }
      ]
    },
    {
      "cell_type": "markdown",
      "source": [
        "Write a code to remove the element 4 from the set {1, 2, 3, 4}."
      ],
      "metadata": {
        "id": "0iBVPt5F0t-E"
      }
    },
    {
      "cell_type": "code",
      "source": [
        "set = {1,2,3,4}\n",
        "set.remove(4)\n",
        "set"
      ],
      "metadata": {
        "colab": {
          "base_uri": "https://localhost:8080/"
        },
        "id": "O_eFjzNF0tkS",
        "outputId": "64b933c3-0e6d-45f7-c010-7d36b35e0f1f"
      },
      "execution_count": null,
      "outputs": [
        {
          "output_type": "execute_result",
          "data": {
            "text/plain": [
              "{1, 2, 3}"
            ]
          },
          "metadata": {},
          "execution_count": 10
        }
      ]
    },
    {
      "cell_type": "markdown",
      "source": [
        "Write a code to find the union of two sets {1, 2, 3} and {3, 4, 5}."
      ],
      "metadata": {
        "id": "GxpdCMBD1LRY"
      }
    },
    {
      "cell_type": "code",
      "source": [
        "from typing import Union\n",
        "set1 ={1,2,3}\n",
        "set2 ={4,5,6}\n",
        "union_set=set1 | set2\n",
        "print(union_set)"
      ],
      "metadata": {
        "colab": {
          "base_uri": "https://localhost:8080/"
        },
        "id": "4kjwOyIj1Q5R",
        "outputId": "2f6bf08a-72fc-4dfd-b2fd-6d571d16ff6b"
      },
      "execution_count": null,
      "outputs": [
        {
          "output_type": "stream",
          "name": "stdout",
          "text": [
            "{1, 2, 3, 4, 5, 6}\n"
          ]
        }
      ]
    },
    {
      "cell_type": "markdown",
      "source": [
        "Write a code to find the intersection of two sets {1, 2, 3} and {2, 3, 4}"
      ],
      "metadata": {
        "id": "uuUJFJzq2Gce"
      }
    },
    {
      "cell_type": "code",
      "source": [
        "set1 = {1,2,3}\n",
        "set2 = {2,3,4}\n",
        "intersection_set= set1 & set2\n",
        "print(intersection_set)"
      ],
      "metadata": {
        "colab": {
          "base_uri": "https://localhost:8080/"
        },
        "id": "H0Dos3Ps2XRl",
        "outputId": "9ca0062f-12e5-496a-cee8-6a02f9701def"
      },
      "execution_count": null,
      "outputs": [
        {
          "output_type": "stream",
          "name": "stdout",
          "text": [
            "{2, 3}\n"
          ]
        }
      ]
    },
    {
      "cell_type": "markdown",
      "source": [
        "Write a code to create a dictionary with the keys \"name\", \"age\", and \"city\", and print it."
      ],
      "metadata": {
        "id": "erFpR6s935zx"
      }
    },
    {
      "cell_type": "code",
      "source": [
        "person = {\"name\":\"shreya\",\"age\":20,\"city\":\"bihar\"}\n",
        "person"
      ],
      "metadata": {
        "colab": {
          "base_uri": "https://localhost:8080/"
        },
        "id": "jOq8ZGda3_1c",
        "outputId": "2fa7a5c9-b9c2-4a41-f13a-de9096e26b9e"
      },
      "execution_count": null,
      "outputs": [
        {
          "output_type": "execute_result",
          "data": {
            "text/plain": [
              "{'name': 'shreya', 'age': 20, 'city': 'bihar'}"
            ]
          },
          "metadata": {},
          "execution_count": 18
        }
      ]
    },
    {
      "cell_type": "markdown",
      "source": [
        "Write a code to add a new key-value pair \"country\": \"USA\" to the dictionary {'name': 'John', 'age': 25}."
      ],
      "metadata": {
        "id": "VMwSdZeT4qc4"
      }
    },
    {
      "cell_type": "code",
      "source": [
        "person_info={\"name\":\"jhon\",\"age\":25,}\n",
        "person_info[\"country\"] = 'USA'\n",
        "person_info"
      ],
      "metadata": {
        "colab": {
          "base_uri": "https://localhost:8080/"
        },
        "id": "svYauhU94xtd",
        "outputId": "de34a23a-3c31-4543-a667-656d96bca8b4"
      },
      "execution_count": null,
      "outputs": [
        {
          "output_type": "execute_result",
          "data": {
            "text/plain": [
              "{'name': 'jhon', 'age': 25, 'country': 'USA'}"
            ]
          },
          "metadata": {},
          "execution_count": 19
        }
      ]
    },
    {
      "cell_type": "markdown",
      "source": [
        "Write a code to access the value associated with the key \"name\" in the dictionary {'name': 'Alice', 'age': 30}."
      ],
      "metadata": {
        "id": "EAUtQyWn6Dfv"
      }
    },
    {
      "cell_type": "code",
      "source": [
        "dic = {'name':'alice','age':30}\n",
        "dic['name']"
      ],
      "metadata": {
        "colab": {
          "base_uri": "https://localhost:8080/",
          "height": 35
        },
        "id": "uruOmuje6OI_",
        "outputId": "1af78836-ef7d-4e90-e0d8-f464e6d5e28d"
      },
      "execution_count": null,
      "outputs": [
        {
          "output_type": "execute_result",
          "data": {
            "text/plain": [
              "'alice'"
            ],
            "application/vnd.google.colaboratory.intrinsic+json": {
              "type": "string"
            }
          },
          "metadata": {},
          "execution_count": 22
        }
      ]
    },
    {
      "cell_type": "markdown",
      "source": [
        "Write a code to remove the key \"age\" from the dictionary {'name': 'Bob', 'age': 22, 'city': 'New York'}."
      ],
      "metadata": {
        "id": "EgrqlMtS67Wb"
      }
    },
    {
      "cell_type": "code",
      "source": [
        "dic = {'name':'bob','age':22,'city':'new york'}\n",
        "del dic['age']\n",
        "dic"
      ],
      "metadata": {
        "colab": {
          "base_uri": "https://localhost:8080/"
        },
        "id": "aPkmze5Y66lF",
        "outputId": "3d5ca676-0c44-4f1c-da44-502d1d38d1ed"
      },
      "execution_count": null,
      "outputs": [
        {
          "output_type": "execute_result",
          "data": {
            "text/plain": [
              "{'name': 'bob', 'city': 'new york'}"
            ]
          },
          "metadata": {},
          "execution_count": 27
        }
      ]
    },
    {
      "cell_type": "markdown",
      "source": [
        "Write a code to check if the key \"city\" exists in the dictionary {'name': 'Alice', 'city': 'Paris'}."
      ],
      "metadata": {
        "id": "Mtswx9iP8Kje"
      }
    },
    {
      "cell_type": "code",
      "source": [
        "dic = {'name':'alice','city':'paris'}\n",
        "if 'city' in dic:\n",
        "  print(\"city exist in dictionary\")\n",
        "else:\n",
        "  print(\"city is not exists in dictionary\")"
      ],
      "metadata": {
        "colab": {
          "base_uri": "https://localhost:8080/"
        },
        "id": "LtF-6QiH8ZMO",
        "outputId": "5551ff47-bae6-4ec3-88e3-334315d07dbb"
      },
      "execution_count": null,
      "outputs": [
        {
          "output_type": "stream",
          "name": "stdout",
          "text": [
            "city exist in dictionary\n"
          ]
        }
      ]
    },
    {
      "cell_type": "markdown",
      "source": [
        " Write a code to create a list, a tuple, and a dictionary, and print them all."
      ],
      "metadata": {
        "id": "DPFfLXUH9kNq"
      }
    },
    {
      "cell_type": "code",
      "source": [
        "list = [1 ,2 ,3 ,4]\n",
        "tuple = (1 , 2, 3 ,4)\n",
        "dic = {\"name\":\"alice\",\"age\":23}\n",
        "print(list)\n",
        "print(tuple)\n",
        "print(dic)"
      ],
      "metadata": {
        "colab": {
          "base_uri": "https://localhost:8080/"
        },
        "id": "dLsdqi469vAT",
        "outputId": "40e40ef7-c675-4ddf-86c6-fe7908797fb1"
      },
      "execution_count": null,
      "outputs": [
        {
          "output_type": "stream",
          "name": "stdout",
          "text": [
            "[1, 2, 3, 4]\n",
            "(1, 2, 3, 4)\n",
            "{'name': 'alice', 'age': 23}\n"
          ]
        }
      ]
    },
    {
      "cell_type": "markdown",
      "source": [],
      "metadata": {
        "id": "i7odyjcQ-hsr"
      }
    },
    {
      "cell_type": "markdown",
      "source": [
        "Write a code to create a list of 5 random numbers between 1 and 100, sort it in ascending order, and print the\n",
        "result.(replaced)"
      ],
      "metadata": {
        "id": "VJy5M0MB-nX9"
      }
    },
    {
      "cell_type": "code",
      "source": [
        "import random\n",
        "\n",
        "\n",
        "random_numbers = [random.randint(1, 100) for _ in range(5)]\n",
        "\n",
        "\n",
        "random_numbers.sort()\n",
        "\n",
        "\n",
        "print(random_numbers)\n"
      ],
      "metadata": {
        "colab": {
          "base_uri": "https://localhost:8080/"
        },
        "id": "FLGlJiwa-v-P",
        "outputId": "0b326527-1928-4c3c-ee96-f682dc9834a0"
      },
      "execution_count": null,
      "outputs": [
        {
          "output_type": "stream",
          "name": "stdout",
          "text": [
            "[25, 34, 61, 80, 89]\n"
          ]
        }
      ]
    },
    {
      "cell_type": "markdown",
      "source": [
        "Write a code to create a list with strings and print the element at the third index."
      ],
      "metadata": {
        "id": "0gMbB2Ch_x-l"
      }
    },
    {
      "cell_type": "code",
      "source": [
        "fruit =[\"apple\",\"orange\",\"banana\",\"plum\",\"pear\"]\n",
        "print(fruit[3])"
      ],
      "metadata": {
        "colab": {
          "base_uri": "https://localhost:8080/"
        },
        "id": "d700VxjC_3qp",
        "outputId": "5e1b4fff-2a55-4b5c-8bc3-205d2439db71"
      },
      "execution_count": null,
      "outputs": [
        {
          "output_type": "stream",
          "name": "stdout",
          "text": [
            "plum\n"
          ]
        }
      ]
    },
    {
      "cell_type": "markdown",
      "source": [
        "Write a code to combine two dictionaries into one and print the result."
      ],
      "metadata": {
        "id": "RwTncMzjA0p5"
      }
    },
    {
      "cell_type": "code",
      "source": [
        "dic1 = {\"name\":\"shreya\",\"age\":32}\n",
        "dic2 = {\"country\":\"USA\"}\n",
        "result = {**dic1 ,**dic2}\n",
        "print(result)"
      ],
      "metadata": {
        "id": "MyPz19MgAgP2",
        "colab": {
          "base_uri": "https://localhost:8080/"
        },
        "outputId": "a0782b8e-d61c-4c3d-d5ac-0562c33acae1"
      },
      "execution_count": null,
      "outputs": [
        {
          "output_type": "stream",
          "name": "stdout",
          "text": [
            "{'name': 'shreya', 'age': 32, 'country': 'USA'}\n"
          ]
        }
      ]
    },
    {
      "cell_type": "markdown",
      "source": [
        "Write a code to convert a list of strings into a set."
      ],
      "metadata": {
        "id": "nel07IYCHgef"
      }
    },
    {
      "cell_type": "code",
      "source": [
        "string_list = [\"apple\",\"banana\",\"plum\",\"apple\",\"banana\"]\n",
        "\n",
        "string_set = set(string_list)\n",
        "\n",
        "print(\"set of list\",string_set)##i dont find the error"
      ],
      "metadata": {
        "colab": {
          "base_uri": "https://localhost:8080/",
          "height": 211
        },
        "id": "dr6Z_zbZI4Hd",
        "outputId": "edbc3586-e4e9-49ad-a6a2-e8fc7bcb91d6"
      },
      "execution_count": null,
      "outputs": [
        {
          "output_type": "error",
          "ename": "TypeError",
          "evalue": "'set' object is not callable",
          "traceback": [
            "\u001b[0;31m---------------------------------------------------------------------------\u001b[0m",
            "\u001b[0;31mTypeError\u001b[0m                                 Traceback (most recent call last)",
            "\u001b[0;32m/tmp/ipython-input-47-1357965602.py\u001b[0m in \u001b[0;36m<cell line: 0>\u001b[0;34m()\u001b[0m\n\u001b[1;32m      1\u001b[0m \u001b[0mstring_list\u001b[0m \u001b[0;34m=\u001b[0m \u001b[0;34m[\u001b[0m\u001b[0;34m\"apple\"\u001b[0m\u001b[0;34m,\u001b[0m\u001b[0;34m\"banana\"\u001b[0m\u001b[0;34m,\u001b[0m\u001b[0;34m\"plum\"\u001b[0m\u001b[0;34m,\u001b[0m\u001b[0;34m\"apple\"\u001b[0m\u001b[0;34m,\u001b[0m\u001b[0;34m\"banana\"\u001b[0m\u001b[0;34m]\u001b[0m\u001b[0;34m\u001b[0m\u001b[0;34m\u001b[0m\u001b[0m\n\u001b[1;32m      2\u001b[0m \u001b[0;34m\u001b[0m\u001b[0m\n\u001b[0;32m----> 3\u001b[0;31m \u001b[0mstring_set\u001b[0m \u001b[0;34m=\u001b[0m \u001b[0mset\u001b[0m\u001b[0;34m(\u001b[0m\u001b[0mstring_list\u001b[0m\u001b[0;34m)\u001b[0m\u001b[0;34m\u001b[0m\u001b[0;34m\u001b[0m\u001b[0m\n\u001b[0m\u001b[1;32m      4\u001b[0m \u001b[0;34m\u001b[0m\u001b[0m\n\u001b[1;32m      5\u001b[0m \u001b[0mprint\u001b[0m\u001b[0;34m(\u001b[0m\u001b[0;34m\"set of list\"\u001b[0m\u001b[0;34m,\u001b[0m\u001b[0mstring_set\u001b[0m\u001b[0;34m)\u001b[0m\u001b[0;34m\u001b[0m\u001b[0;34m\u001b[0m\u001b[0m\n",
            "\u001b[0;31mTypeError\u001b[0m: 'set' object is not callable"
          ]
        }
      ]
    }
  ]
}